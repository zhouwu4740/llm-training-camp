{
 "cells": [
  {
   "cell_type": "code",
   "execution_count": 1,
   "id": "7dc23867-dca2-4f92-a178-1688ccb2429e",
   "metadata": {},
   "outputs": [
    {
     "name": "stdout",
     "output_type": "stream",
     "text": [
      "da09025aa3d3016c1c27af287dcf9448.zJzbN2MaUcvfqKle\n"
     ]
    }
   ],
   "source": [
    "import os\n",
    "import api\n",
    "import data_types\n",
    "from typing import Iterator"
   ]
  },
  {
   "cell_type": "code",
   "execution_count": 2,
   "id": "a517a78e-9485-4855-b1df-fd4364cf7077",
   "metadata": {},
   "outputs": [],
   "source": [
    "zhang_ning = \"张宁作为A公司信贷业务部的产品经理，专注于信贷产品的设计和管理。他凭借出色的专业知识和创新思维，成功领导团队开发了多款高效、用户友好的信贷产品，大幅提升了公司在市场上的竞争力\"\n",
    "\n",
    "li_xian = \"李现担任A公司信贷业务部的应用架构师，专精于信贷系统的架构设计、管理与研发。他以其深厚的技术功底和前瞻性视角，不仅优化了现有系统架构，还引领团队创新研发，有效提高了系统性能和用户体验，是公司技术骨干。\""
   ]
  },
  {
   "cell_type": "code",
   "execution_count": 3,
   "id": "5157a211-5b11-4858-9159-ee65e9c0cb70",
   "metadata": {},
   "outputs": [
    {
     "name": "stdout",
     "output_type": "stream",
     "text": [
      "{'zhangning': {'name': '张宁', 'character': '张宁，男性，年龄约在三旬左右。他有一头乌黑的短发，戴着一副银边的眼镜，眼神敏锐，面部线条清晰，身着正式的西装，给人干练、沉稳的感觉。'}, 'lixian': {'name': '李现', 'character': '李现，男性，年龄三十岁左右。他的身材高大健硕，面容坚毅，眼神明亮而深邃，透着聪明和自信。一头黑色的短发整洁利落，鼻梁挺拔，嘴唇紧闭，显露出他的坚定和专注。'}}\n"
     ]
    }
   ],
   "source": [
    "generator_zhangning = api.generate_role_appearance(zhang_ning)\n",
    "generator_lixian = api.generate_role_appearance(li_xian)\n",
    "\n",
    "character_zhangning = ''.join(list(generator_zhangning))\n",
    "character_lixian = ''.join(list(generator_lixian))\n",
    "\n",
    "# 人物信息\n",
    "characters = {\n",
    "    'zhangning': {\n",
    "        'name': '张宁',\n",
    "        'character': character_zhangning,\n",
    "    },\n",
    "    'lixian': {\n",
    "        'name': '李现',\n",
    "        'character': character_lixian\n",
    "    }\n",
    "}\n",
    "print(characters)"
   ]
  },
  {
   "cell_type": "code",
   "execution_count": 4,
   "id": "2ed124f6-523c-45f8-8ef1-6e10c3c76c79",
   "metadata": {},
   "outputs": [
    {
     "data": {
      "text/plain": [
       "{'user_name': '张宁',\n",
       " 'user_info': '张宁，男性，年龄约在三旬左右。他有一头乌黑的短发，戴着一副银边的眼镜，眼神敏锐，面部线条清晰，身着正式的西装，给人干练、沉稳的感觉。',\n",
       " 'bot_name': '李现',\n",
       " 'bot_info': '李现，男性，年龄三十岁左右。他的身材高大健硕，面容坚毅，眼神明亮而深邃，透着聪明和自信。一头黑色的短发整洁利落，鼻梁挺拔，嘴唇紧闭，显露出他的坚定和专注。'}"
      ]
     },
     "execution_count": 4,
     "metadata": {},
     "output_type": "execute_result"
    }
   ],
   "source": [
    "# 一方扮演 user，另一方扮演 bot\n",
    "players = ['zhangning', 'lixian']\n",
    "player_zhangning = players[0]\n",
    "player_lixian = players[1]\n",
    "\n",
    "def get_character_meta(user_player, bot_player):\n",
    "    return api.CharacterMeta(\n",
    "        user_name = characters[user_player]['name'],\n",
    "        user_info = characters[user_player]['character'],\n",
    "        bot_name = characters[bot_player]['name'],\n",
    "        bot_info = characters[bot_player]['character'],\n",
    "    )\n",
    "\n",
    "get_character_meta(player_zhangning, player_lixian)"
   ]
  },
  {
   "cell_type": "code",
   "execution_count": 5,
   "id": "b2bca02a-35c5-41b1-961c-f92ccce3d368",
   "metadata": {},
   "outputs": [],
   "source": [
    "def generate_dialogue(user, bot, history) -> str:\n",
    "    \"\"\"生成对话\"\"\"\n",
    "    response = api.get_characterglm_response(history, get_character_meta(user, bot))\n",
    "    content = ''.join(list(response))\n",
    "    if not (content.startswith('（张宁说）') or content.startswith('（李现说）')):\n",
    "        content = f\"（{characters[bot]['name']}说）{content}\"\n",
    "    return content"
   ]
  },
  {
   "cell_type": "code",
   "execution_count": 22,
   "id": "6b4a1419-6c8d-4969-bb8a-4b969f532de9",
   "metadata": {},
   "outputs": [],
   "source": [
    "message_history=[]"
   ]
  },
  {
   "cell_type": "code",
   "execution_count": 23,
   "id": "1ef1a7a2-d480-43ae-b95b-157484fb2a33",
   "metadata": {},
   "outputs": [],
   "source": [
    "def generate_dialogues(num_dialogues: int=10):\n",
    "    for i in range(0, num_dialogues):\n",
    "        user_index = i % 2\n",
    "        user = players[user_index]\n",
    "        bot = players[1-user_index]\n",
    "        content = generate_dialogue(user, bot, message_history)\n",
    "        message_history.append(data_types.TextMsg(role=characters[bot]['name'], content=content))"
   ]
  },
  {
   "cell_type": "code",
   "execution_count": 24,
   "id": "f7cb1291-46e1-4497-bb59-69112b94d2c8",
   "metadata": {},
   "outputs": [],
   "source": [
    "message_history.append(data_types.TextMsg(role='张宁', content='（张宁说）信贷二期项目将启动，李现我们一起来梳理一下项目重要流程'))\n",
    "generate_dialogues(10)"
   ]
  },
  {
   "cell_type": "code",
   "execution_count": 25,
   "id": "33c67fc1-a92a-49e7-ac09-d4ed2927be6e",
   "metadata": {},
   "outputs": [
    {
     "data": {
      "text/plain": [
       "[{'role': '张宁', 'content': '（张宁说）信贷二期项目将启动，李现我们一起来梳理一下项目重要流程'},\n",
       " {'role': '李现', 'content': '（李现说）好的，张宁'},\n",
       " {'role': '张宁', 'content': '（张宁说）我们先从项目立项开始梳理，需要哪些部门参与，各自分工是什么'},\n",
       " {'role': '李现', 'content': '（李现说）立项，需要我们销售部，开发部，设计部，市场部，还有我们财务部'},\n",
       " {'role': '张宁', 'content': '（张宁说）好，各自分工呢'},\n",
       " {'role': '李现', 'content': '（李现说）销售部负责前期市场调研，确定项目客户需求'},\n",
       " {'role': '张宁', 'content': '（张宁说）设计部，根据客户需求，设计项目实施方案'},\n",
       " {'role': '李现', 'content': '（李现说）开发部，根据设计部项目方案，进行技术开发'},\n",
       " {'role': '张宁', 'content': '（张宁说）市场部，制定项目营销策略，并进行市场推广'},\n",
       " {'role': '李现', 'content': '（李现说）我们财务部，负责项目预算，成本控制，以及项目收益分析'},\n",
       " {'role': '张宁', 'content': '（张宁说）梳理完立项，我们继续梳理项目实施'}]"
      ]
     },
     "execution_count": 25,
     "metadata": {},
     "output_type": "execute_result"
    }
   ],
   "source": [
    "message_history"
   ]
  },
  {
   "cell_type": "code",
   "execution_count": 29,
   "id": "80c3d6a9-6bab-45b6-9ab9-0423bd59a0a0",
   "metadata": {},
   "outputs": [],
   "source": [
    "# 保存对话数据\n",
    "import json\n",
    "\n",
    "with open('dialog.json', 'w') as f:\n",
    "    json.dump(message_history, f)"
   ]
  }
 ],
 "metadata": {
  "kernelspec": {
   "display_name": "Python 3 (ipykernel)",
   "language": "python",
   "name": "python3"
  },
  "language_info": {
   "codemirror_mode": {
    "name": "ipython",
    "version": 3
   },
   "file_extension": ".py",
   "mimetype": "text/x-python",
   "name": "python",
   "nbconvert_exporter": "python",
   "pygments_lexer": "ipython3",
   "version": "3.11.6"
  }
 },
 "nbformat": 4,
 "nbformat_minor": 5
}
