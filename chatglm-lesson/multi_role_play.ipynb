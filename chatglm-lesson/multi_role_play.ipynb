{
 "cells": [
  {
   "cell_type": "code",
   "execution_count": 7,
   "id": "0ca11b64-561a-424e-9419-a13073a732f8",
   "metadata": {},
   "outputs": [],
   "source": [
    "import os\n",
    "import jwt\n",
    "import time\n",
    "import requests"
   ]
  },
  {
   "cell_type": "code",
   "execution_count": 6,
   "id": "724eed48-4cf6-4c5e-b10b-65d3a08a9370",
   "metadata": {},
   "outputs": [],
   "source": [
    "API_KEY = os.getenv('ZHIPU_API_KEY')\n",
    "uid, secret = API_KEY.split('.')"
   ]
  },
  {
   "cell_type": "code",
   "execution_count": 10,
   "id": "05b8679b-a8b2-4593-b004-823df3d23890",
   "metadata": {},
   "outputs": [],
   "source": [
    "def generate_token(apikey: str, exp_seconds: int=1800) -> str:\n",
    "    \"\"\"生成 JWT Token\"\"\"\n",
    "    try:\n",
    "        id, secret = apikey.split(\".\")\n",
    "    except Exception as e:\n",
    "        raise Exception(\"invalid apikey\", e)\n",
    "\n",
    "    payload = {\n",
    "        \"api_key\": id,\n",
    "        \"exp\": int(round(time.time() * 1000)) + exp_seconds * 1000,\n",
    "        \"timestamp\": int(round(time.time() * 1000)),\n",
    "    }\n",
    "\n",
    "    return jwt.encode(\n",
    "        payload,\n",
    "        secret,\n",
    "        algorithm=\"HS256\",\n",
    "        headers={\"alg\": \"HS256\", \"sign_type\": \"SIGN\"},\n",
    "    )"
   ]
  },
  {
   "cell_type": "code",
   "execution_count": null,
   "id": "cc9d2e36-429b-45bf-bbb4-ac64740ac38f",
   "metadata": {},
   "outputs": [],
   "source": []
  }
 ],
 "metadata": {
  "kernelspec": {
   "display_name": "Python 3 (ipykernel)",
   "language": "python",
   "name": "python3"
  },
  "language_info": {
   "codemirror_mode": {
    "name": "ipython",
    "version": 3
   },
   "file_extension": ".py",
   "mimetype": "text/x-python",
   "name": "python",
   "nbconvert_exporter": "python",
   "pygments_lexer": "ipython3",
   "version": "3.11.6"
  }
 },
 "nbformat": 4,
 "nbformat_minor": 5
}
