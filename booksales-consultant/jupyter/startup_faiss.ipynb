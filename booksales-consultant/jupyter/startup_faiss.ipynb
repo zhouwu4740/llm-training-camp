{
 "cells": [
  {
   "cell_type": "code",
   "execution_count": 27,
   "id": "c61e50ba-3c37-4981-a7b3-62db76dd9b80",
   "metadata": {},
   "outputs": [],
   "source": [
    "from typing import List\n",
    "from langchain.vectorstores.faiss import FAISS\n",
    "from langchain.embeddings import OpenAIEmbeddings"
   ]
  },
  {
   "cell_type": "code",
   "execution_count": 6,
   "id": "6c2fa27e-d953-44f0-b894-081d2ed79062",
   "metadata": {},
   "outputs": [],
   "source": [
    "embedding = OpenAIEmbeddings()\n",
    "db = FAISS.load_local('./books/', embedding)"
   ]
  },
  {
   "cell_type": "code",
   "execution_count": 8,
   "id": "ca0e5466-b3e9-4c2c-b393-1c7e6e3df829",
   "metadata": {},
   "outputs": [
    {
     "data": {
      "text/plain": [
       "[(Document(page_content='书名：《Python 编程入门》\\n作者：Eric Matthes\\n分类：编程语言\\n价格：59.99\\n发布年份：2020-03\\n出版社：No Starch Press\\n简介：这本书是初学者学习 Python 编程的绝佳选择，包含大量示例和练习，逐步引导读者掌握 Python 编程基础。', metadata={'source': '计算机科学_edited.json', 'seq_num': 1, 'book_name': 'Python 编程入门', 'author': 'Eric Matthes', 'classify': '编程语言', 'price': 59.99, 'publish_date': '2020-03', 'press': 'No Starch Press', 'summary': '这本书是初学者学习 Python 编程的绝佳选择，包含大量示例和练习，逐步引导读者掌握 Python 编程基础。'}),\n",
       "  0.7944006765870061),\n",
       " (Document(page_content='书名：《深度学习》\\n作者：Ian Goodfellow, Yoshua Bengio, Aaron Courville\\n分类：人工智能\\n价格：89.99\\n发布年份：2016-11\\n出版社：MIT Press\\n简介：这是一本关于深度学习的经典教材，覆盖深度学习的基本原理和应用。', metadata={'source': '计算机科学_edited.json', 'seq_num': 2, 'book_name': '深度学习', 'author': 'Ian Goodfellow, Yoshua Bengio, Aaron Courville', 'classify': '人工智能', 'price': 89.99, 'publish_date': '2016-11', 'press': 'MIT Press', 'summary': '这是一本关于深度学习的经典教材，覆盖深度学习的基本原理和应用。'}),\n",
       "  0.7266910901046787),\n",
       " (Document(page_content='书名：《算法导论》\\n作者：Thomas H. Cormen, Charles E. Leiserson, Ronald L. Rivest, Clifford Stein\\n分类：算法\\n价格：69.99\\n发布年份：2009-07\\n出版社：The MIT Press\\n简介：这本书介绍了算法设计和分析的基础知识，是计算机科学领域的经典教材。', metadata={'source': '计算机科学_edited.json', 'seq_num': 4, 'book_name': '算法导论', 'author': 'Thomas H. Cormen, Charles E. Leiserson, Ronald L. Rivest, Clifford Stein', 'classify': '算法', 'price': 69.99, 'publish_date': '2009-07', 'press': 'The MIT Press', 'summary': '这本书介绍了算法设计和分析的基础知识，是计算机科学领域的经典教材。'}),\n",
       "  0.7078604682458904),\n",
       " (Document(page_content='书名：《金融数学》\\n作者：Martin Baxter, Andrew Rennie\\n分类：金融数学\\n价格：59.99\\n发布年份：2015-06\\n出版社：Wiley\\n简介：该书介绍了金融数学的基本概念和工具，包括期权定价、风险管理等方面的数学方法。', metadata={'source': '金融学_edited.json', 'seq_num': 6, 'book_name': '金融数学', 'author': 'Martin Baxter, Andrew Rennie', 'classify': '金融数学', 'price': 59.99, 'publish_date': '2015-06', 'press': 'Wiley', 'summary': '该书介绍了金融数学的基本概念和工具，包括期权定价、风险管理等方面的数学方法。'}),\n",
       "  0.7070380146440488),\n",
       " (Document(page_content=\"书名：《Web开发权威指南》\\n作者：Eric Freeman, Elisabeth Robson, Kathy Sierra, Bert Bates\\n分类：Web开发\\n价格：69.99\\n发布年份：2006-11\\n出版社：O'Reilly Media\\n简介：这本书全面介绍了 Web 开发的各个方面，包括前端和后端开发技术。\", metadata={'source': '计算机科学_edited.json', 'seq_num': 7, 'book_name': 'Web开发权威指南', 'author': 'Eric Freeman, Elisabeth Robson, Kathy Sierra, Bert Bates', 'classify': 'Web开发', 'price': 69.99, 'publish_date': '2006-11', 'press': \"O'Reilly Media\", 'summary': '这本书全面介绍了 Web 开发的各个方面，包括前端和后端开发技术。'}),\n",
       "  0.7058859305400036),\n",
       " (Document(page_content=\"书名：《数据科学导论》\\n作者：Joel Grus\\n分类：数据科学\\n价格：49.99\\n发布年份：2016-04\\n出版社：O'Reilly Media\\n简介：本书提供了数据科学入门的指导，包括数据分析、机器学习和数据可视化的基础知识。\", metadata={'source': '计算机科学_edited.json', 'seq_num': 5, 'book_name': '数据科学导论', 'author': 'Joel Grus', 'classify': '数据科学', 'price': 49.99, 'publish_date': '2016-04', 'press': \"O'Reilly Media\", 'summary': '本书提供了数据科学入门的指导，包括数据分析、机器学习和数据可视化的基础知识。'}),\n",
       "  0.7033682463973567),\n",
       " (Document(page_content='书名：《国际经济学》\\n作者：Paul Krugman, Maurice Obstfeld, Marc Melitz\\n分类：国际经济学\\n价格：88.99\\n发布年份：2019-04\\n出版社：Pearson\\n简介：该书涵盖了国际贸易和国际货币体系的理论和政策，包括关税、汇率、贸易政策等国际经济主题。', metadata={'source': '经济学_edited.json', 'seq_num': 5, 'book_name': '国际经济学', 'author': 'Paul Krugman, Maurice Obstfeld, Marc Melitz', 'classify': '国际经济学', 'price': 88.99, 'publish_date': '2019-04', 'press': 'Pearson', 'summary': '该书涵盖了国际贸易和国际货币体系的理论和政策，包括关税、汇率、贸易政策等国际经济主题。'}),\n",
       "  0.6956601357137449),\n",
       " (Document(page_content='书名：《金融工程学》\\n作者：Paul P. Dorfman\\n分类：金融工程\\n价格：69.99\\n发布年份：2019-09\\n出版社：Wiley\\n简介：该书探讨了金融工程领域的数学、统计和计算方法，以及金融市场的风险管理。', metadata={'source': '金融学_edited.json', 'seq_num': 2, 'book_name': '金融工程学', 'author': 'Paul P. Dorfman', 'classify': '金融工程', 'price': 69.99, 'publish_date': '2019-09', 'press': 'Wiley', 'summary': '该书探讨了金融工程领域的数学、统计和计算方法，以及金融市场的风险管理。'}),\n",
       "  0.6940777322864033),\n",
       " (Document(page_content='书名：《西方哲学史》\\n作者：Bertrand Russell\\n分类：哲学史\\n价格：49.99\\n发布年份：2018-04\\n出版社：Routledge\\n简介：这本书回顾了西方哲学的历史发展，从古希腊哲学到现代哲学思想，涵盖了众多哲学家和哲学流派。', metadata={'source': '哲学_edited.json', 'seq_num': 1, 'book_name': '西方哲学史', 'author': 'Bertrand Russell', 'classify': '哲学史', 'price': 49.99, 'publish_date': '2018-04', 'press': 'Routledge', 'summary': '这本书回顾了西方哲学的历史发展，从古希腊哲学到现代哲学思想，涵盖了众多哲学家和哲学流派。'}),\n",
       "  0.692869297845899),\n",
       " (Document(page_content='书名：《大数据时代》\\n作者：Viktor Mayer-Schönberger, Kenneth Cukier\\n分类：大数据\\n价格：49.99\\n发布年份：2013-03\\n出版社：Houghton Mifflin Harcourt\\n简介：这本书探讨了大数据对社会和业务的影响，以及如何在大数据时代中获得洞见。', metadata={'source': '计算机科学_edited.json', 'seq_num': 10, 'book_name': '大数据时代', 'author': 'Viktor Mayer-Schönberger, Kenneth Cukier', 'classify': '大数据', 'price': 49.99, 'publish_date': '2013-03', 'press': 'Houghton Mifflin Harcourt', 'summary': '这本书探讨了大数据对社会和业务的影响，以及如何在大数据时代中获得洞见。'}),\n",
       "  0.6912748193464591)]"
      ]
     },
     "execution_count": 8,
     "metadata": {},
     "output_type": "execute_result"
    }
   ],
   "source": [
    "db.similarity_search_with_relevance_scores('你这里有Python方面的书吗', k=10)"
   ]
  },
  {
   "cell_type": "code",
   "execution_count": 9,
   "id": "3a789c75-d5af-4e1d-9e93-181c845eb190",
   "metadata": {},
   "outputs": [
    {
     "data": {
      "text/plain": [
       "[(Document(page_content='书名：《Python 编程入门》\\n作者：Eric Matthes\\n分类：编程语言\\n价格：59.99\\n发布年份：2020-03\\n出版社：No Starch Press\\n简介：这本书是初学者学习 Python 编程的绝佳选择，包含大量示例和练习，逐步引导读者掌握 Python 编程基础。', metadata={'source': '计算机科学_edited.json', 'seq_num': 1, 'book_name': 'Python 编程入门', 'author': 'Eric Matthes', 'classify': '编程语言', 'price': 59.99, 'publish_date': '2020-03', 'press': 'No Starch Press', 'summary': '这本书是初学者学习 Python 编程的绝佳选择，包含大量示例和练习，逐步引导读者掌握 Python 编程基础。'}),\n",
       "  0.8088473518510853),\n",
       " (Document(page_content='书名：《深度学习》\\n作者：Ian Goodfellow, Yoshua Bengio, Aaron Courville\\n分类：人工智能\\n价格：89.99\\n发布年份：2016-11\\n出版社：MIT Press\\n简介：这是一本关于深度学习的经典教材，覆盖深度学习的基本原理和应用。', metadata={'source': '计算机科学_edited.json', 'seq_num': 2, 'book_name': '深度学习', 'author': 'Ian Goodfellow, Yoshua Bengio, Aaron Courville', 'classify': '人工智能', 'price': 89.99, 'publish_date': '2016-11', 'press': 'MIT Press', 'summary': '这是一本关于深度学习的经典教材，覆盖深度学习的基本原理和应用。'}),\n",
       "  0.7391161496330843),\n",
       " (Document(page_content=\"书名：《数据科学导论》\\n作者：Joel Grus\\n分类：数据科学\\n价格：49.99\\n发布年份：2016-04\\n出版社：O'Reilly Media\\n简介：本书提供了数据科学入门的指导，包括数据分析、机器学习和数据可视化的基础知识。\", metadata={'source': '计算机科学_edited.json', 'seq_num': 5, 'book_name': '数据科学导论', 'author': 'Joel Grus', 'classify': '数据科学', 'price': 49.99, 'publish_date': '2016-04', 'press': \"O'Reilly Media\", 'summary': '本书提供了数据科学入门的指导，包括数据分析、机器学习和数据可视化的基础知识。'}),\n",
       "  0.7078641560951351),\n",
       " (Document(page_content=\"书名：《Web开发权威指南》\\n作者：Eric Freeman, Elisabeth Robson, Kathy Sierra, Bert Bates\\n分类：Web开发\\n价格：69.99\\n发布年份：2006-11\\n出版社：O'Reilly Media\\n简介：这本书全面介绍了 Web 开发的各个方面，包括前端和后端开发技术。\", metadata={'source': '计算机科学_edited.json', 'seq_num': 7, 'book_name': 'Web开发权威指南', 'author': 'Eric Freeman, Elisabeth Robson, Kathy Sierra, Bert Bates', 'classify': 'Web开发', 'price': 69.99, 'publish_date': '2006-11', 'press': \"O'Reilly Media\", 'summary': '这本书全面介绍了 Web 开发的各个方面，包括前端和后端开发技术。'}),\n",
       "  0.7074583030173994)]"
      ]
     },
     "execution_count": 9,
     "metadata": {},
     "output_type": "execute_result"
    }
   ],
   "source": [
    "db.similarity_search_with_relevance_scores('我想学 python ，有哪些书籍可以帮助到我')"
   ]
  },
  {
   "cell_type": "code",
   "execution_count": 10,
   "id": "8fbbdd3d-dbbd-4dd7-8f34-e41b5d31444e",
   "metadata": {},
   "outputs": [
    {
     "data": {
      "text/plain": [
       "[(Document(page_content='书名：《操作系统概念》\\n作者：Abraham Silberschatz, Peter B. Galvin, Greg Gagne\\n分类：操作系统\\n价格：79.99\\n发布年份：2018-03\\n出版社：Wiley\\n简介：该书介绍了操作系统的基本概念和原理，是操作系统课程的标准教材。', metadata={'source': '计算机科学_edited.json', 'seq_num': 6, 'book_name': '操作系统概念', 'author': 'Abraham Silberschatz, Peter B. Galvin, Greg Gagne', 'classify': '操作系统', 'price': 79.99, 'publish_date': '2018-03', 'press': 'Wiley', 'summary': '该书介绍了操作系统的基本概念和原理，是操作系统课程的标准教材。'}),\n",
       "  0.711948543964053),\n",
       " (Document(page_content='书名：《西方哲学史》\\n作者：Bertrand Russell\\n分类：哲学史\\n价格：49.99\\n发布年份：2018-04\\n出版社：Routledge\\n简介：这本书回顾了西方哲学的历史发展，从古希腊哲学到现代哲学思想，涵盖了众多哲学家和哲学流派。', metadata={'source': '哲学_edited.json', 'seq_num': 1, 'book_name': '西方哲学史', 'author': 'Bertrand Russell', 'classify': '哲学史', 'price': 49.99, 'publish_date': '2018-04', 'press': 'Routledge', 'summary': '这本书回顾了西方哲学的历史发展，从古希腊哲学到现代哲学思想，涵盖了众多哲学家和哲学流派。'}),\n",
       "  0.6962070332200223),\n",
       " (Document(page_content='书名：《围城》\\n作者：钱锺书\\n分类：现代小说\\n价格：24.99\\n发布年份：1947\\n出版社：人民文学出版社\\n简介：这是一部讽刺小说，反映了中国知识分子在围城内外的生活和矛盾。', metadata={'source': '中国文学_edited.json', 'seq_num': 10, 'book_name': '围城', 'author': '钱锺书', 'classify': '现代小说', 'price': 24.99, 'publish_date': '1947', 'press': '人民文学出版社', 'summary': '这是一部讽刺小说，反映了中国知识分子在围城内外的生活和矛盾。'}),\n",
       "  0.6951382945089073),\n",
       " (Document(page_content=\"书名：《数据科学导论》\\n作者：Joel Grus\\n分类：数据科学\\n价格：49.99\\n发布年份：2016-04\\n出版社：O'Reilly Media\\n简介：本书提供了数据科学入门的指导，包括数据分析、机器学习和数据可视化的基础知识。\", metadata={'source': '计算机科学_edited.json', 'seq_num': 5, 'book_name': '数据科学导论', 'author': 'Joel Grus', 'classify': '数据科学', 'price': 49.99, 'publish_date': '2016-04', 'press': \"O'Reilly Media\", 'summary': '本书提供了数据科学入门的指导，包括数据分析、机器学习和数据可视化的基础知识。'}),\n",
       "  0.6938850158215872)]"
      ]
     },
     "execution_count": 10,
     "metadata": {},
     "output_type": "execute_result"
    }
   ],
   "source": [
    "db.similarity_search_with_relevance_scores(\"你这里有os方面的书吗\")"
   ]
  },
  {
   "cell_type": "code",
   "execution_count": 25,
   "id": "a1bd163d-ed2d-4590-aac5-c3a7d4b9b87f",
   "metadata": {},
   "outputs": [
    {
     "data": {
      "text/plain": [
       "[(Document(page_content='书名：《操作系统概念》\\n作者：Abraham Silberschatz, Peter B. Galvin, Greg Gagne\\n分类：操作系统\\n价格：79.99\\n发布年份：2018-03\\n出版社：Wiley\\n简介：该书介绍了操作系统的基本概念和原理，是操作系统课程的标准教材。', metadata={'source': '计算机科学_edited.json', 'seq_num': 6, 'book_name': '操作系统概念', 'author': 'Abraham Silberschatz, Peter B. Galvin, Greg Gagne', 'classify': '操作系统', 'price': 79.99, 'publish_date': '2018-03', 'press': 'Wiley', 'summary': '该书介绍了操作系统的基本概念和原理，是操作系统课程的标准教材。'}),\n",
       "  0.711948543964053)]"
      ]
     },
     "execution_count": 25,
     "metadata": {},
     "output_type": "execute_result"
    }
   ],
   "source": [
    "db.similarity_search_with_relevance_scores(\"你这里有os方面的书吗\", \n",
    "                                           search_type=\"similarity_score_threshold\",\n",
    "                                           score_threshold= 0.7)"
   ]
  },
  {
   "cell_type": "code",
   "execution_count": 47,
   "id": "e3c59822-188c-4302-ae8b-bae974a42717",
   "metadata": {},
   "outputs": [],
   "source": [
    "# 封装图书信息检索功能\n",
    "def book_saler(query: str, score_threshold: float=0.8, min_threshold=None, step=0.05) -> List[str]:\n",
    "    if min_threshold is None:\n",
    "        min_threshold = score_threshold\n",
    "    results = []\n",
    "    _threshold = score_threshold\n",
    "    while _threshold >= min_threshold and not results:\n",
    "        retriever = db.as_retriever(search_type=\"similarity_score_threshold\", \n",
    "                                    search_kwargs={\"score_threshold\": _threshold})\n",
    "        results = retriever.get_relevant_documents(query)\n",
    "        _threshold-=step\n",
    "    return results"
   ]
  },
  {
   "cell_type": "code",
   "execution_count": 48,
   "id": "923e9c10-d978-4e39-bd3a-63e5c6658902",
   "metadata": {},
   "outputs": [
    {
     "name": "stderr",
     "output_type": "stream",
     "text": [
      "/Users/apple/Documents/Projects/llm-training-camp/booksales-consultant/.venv/lib/python3.11/site-packages/langchain/schema/vectorstore.py:287: UserWarning: No relevant docs were retrieved using the relevance score threshold 0.8\n",
      "  warnings.warn(\n"
     ]
    },
    {
     "data": {
      "text/plain": [
       "[]"
      ]
     },
     "execution_count": 48,
     "metadata": {},
     "output_type": "execute_result"
    }
   ],
   "source": [
    "book_saler(\"我想学 golang，有这方面的书吗\")"
   ]
  },
  {
   "cell_type": "code",
   "execution_count": 49,
   "id": "8eb2a5d8-7455-4e30-adfd-0a703709496b",
   "metadata": {},
   "outputs": [
    {
     "name": "stderr",
     "output_type": "stream",
     "text": [
      "/Users/apple/Documents/Projects/llm-training-camp/booksales-consultant/.venv/lib/python3.11/site-packages/langchain/schema/vectorstore.py:287: UserWarning: No relevant docs were retrieved using the relevance score threshold 0.8\n",
      "  warnings.warn(\n"
     ]
    },
    {
     "data": {
      "text/plain": [
       "[Document(page_content='书名：《Python 编程入门》\\n作者：Eric Matthes\\n分类：编程语言\\n价格：59.99\\n发布年份：2020-03\\n出版社：No Starch Press\\n简介：这本书是初学者学习 Python 编程的绝佳选择，包含大量示例和练习，逐步引导读者掌握 Python 编程基础。', metadata={'source': '计算机科学_edited.json', 'seq_num': 1, 'book_name': 'Python 编程入门', 'author': 'Eric Matthes', 'classify': '编程语言', 'price': 59.99, 'publish_date': '2020-03', 'press': 'No Starch Press', 'summary': '这本书是初学者学习 Python 编程的绝佳选择，包含大量示例和练习，逐步引导读者掌握 Python 编程基础。'}),\n",
       " Document(page_content=\"书名：《Web开发权威指南》\\n作者：Eric Freeman, Elisabeth Robson, Kathy Sierra, Bert Bates\\n分类：Web开发\\n价格：69.99\\n发布年份：2006-11\\n出版社：O'Reilly Media\\n简介：这本书全面介绍了 Web 开发的各个方面，包括前端和后端开发技术。\", metadata={'source': '计算机科学_edited.json', 'seq_num': 7, 'book_name': 'Web开发权威指南', 'author': 'Eric Freeman, Elisabeth Robson, Kathy Sierra, Bert Bates', 'classify': 'Web开发', 'price': 69.99, 'publish_date': '2006-11', 'press': \"O'Reilly Media\", 'summary': '这本书全面介绍了 Web 开发的各个方面，包括前端和后端开发技术。'})]"
      ]
     },
     "execution_count": 49,
     "metadata": {},
     "output_type": "execute_result"
    }
   ],
   "source": [
    "book_saler(\"我想成为编程高手，有这方面的书吗\", min_threshold=0.6)"
   ]
  },
  {
   "cell_type": "code",
   "execution_count": 50,
   "id": "e599645c-63c0-43e7-a74c-601794f92223",
   "metadata": {},
   "outputs": [
    {
     "data": {
      "text/plain": [
       "[Document(page_content='书名：《Python 编程入门》\\n作者：Eric Matthes\\n分类：编程语言\\n价格：59.99\\n发布年份：2020-03\\n出版社：No Starch Press\\n简介：这本书是初学者学习 Python 编程的绝佳选择，包含大量示例和练习，逐步引导读者掌握 Python 编程基础。', metadata={'source': '计算机科学_edited.json', 'seq_num': 1, 'book_name': 'Python 编程入门', 'author': 'Eric Matthes', 'classify': '编程语言', 'price': 59.99, 'publish_date': '2020-03', 'press': 'No Starch Press', 'summary': '这本书是初学者学习 Python 编程的绝佳选择，包含大量示例和练习，逐步引导读者掌握 Python 编程基础。'})]"
      ]
     },
     "execution_count": 50,
     "metadata": {},
     "output_type": "execute_result"
    }
   ],
   "source": [
    "book_saler(\"我想学 python，有这方面的书吗\")"
   ]
  },
  {
   "cell_type": "code",
   "execution_count": 51,
   "id": "0122e9c9-d3b1-46a9-b193-8c42d4499da9",
   "metadata": {},
   "outputs": [
    {
     "name": "stderr",
     "output_type": "stream",
     "text": [
      "/Users/apple/Documents/Projects/llm-training-camp/booksales-consultant/.venv/lib/python3.11/site-packages/langchain/schema/vectorstore.py:287: UserWarning: No relevant docs were retrieved using the relevance score threshold 0.8\n",
      "  warnings.warn(\n"
     ]
    },
    {
     "data": {
      "text/plain": [
       "[Document(page_content='书名：《计算机体系结构: 量子计算和并行计算》\\n作者：Kai Hwang, Faye A. Briggs\\n分类：计算机体系结构\\n价格：89.99\\n发布年份：2008-10\\n出版社：McGraw-Hill Education\\n简介：这本书涵盖了计算机体系结构的现代话题，包括量子计算和并行计算。', metadata={'source': '计算机科学_edited.json', 'seq_num': 8, 'book_name': '计算机体系结构: 量子计算和并行计算', 'author': 'Kai Hwang, Faye A. Briggs', 'classify': '计算机体系结构', 'price': 89.99, 'publish_date': '2008-10', 'press': 'McGraw-Hill Education', 'summary': '这本书涵盖了计算机体系结构的现代话题，包括量子计算和并行计算。'}),\n",
       " Document(page_content='书名：《算法导论》\\n作者：Thomas H. Cormen, Charles E. Leiserson, Ronald L. Rivest, Clifford Stein\\n分类：算法\\n价格：69.99\\n发布年份：2009-07\\n出版社：The MIT Press\\n简介：这本书介绍了算法设计和分析的基础知识，是计算机科学领域的经典教材。', metadata={'source': '计算机科学_edited.json', 'seq_num': 4, 'book_name': '算法导论', 'author': 'Thomas H. Cormen, Charles E. Leiserson, Ronald L. Rivest, Clifford Stein', 'classify': '算法', 'price': 69.99, 'publish_date': '2009-07', 'press': 'The MIT Press', 'summary': '这本书介绍了算法设计和分析的基础知识，是计算机科学领域的经典教材。'}),\n",
       " Document(page_content='书名：《计算机网络: 自顶向下方法》\\n作者：James F. Kurose, Keith W. Ross\\n分类：网络\\n价格：79.99\\n发布年份：2016-06\\n出版社：Pearson\\n简介：该书详细介绍了计算机网络的原理和协议，是学习网络通信的重要参考书籍。', metadata={'source': '计算机科学_edited.json', 'seq_num': 3, 'book_name': '计算机网络: 自顶向下方法', 'author': 'James F. Kurose, Keith W. Ross', 'classify': '网络', 'price': 79.99, 'publish_date': '2016-06', 'press': 'Pearson', 'summary': '该书详细介绍了计算机网络的原理和协议，是学习网络通信的重要参考书籍。'}),\n",
       " Document(page_content='书名：《深度学习》\\n作者：Ian Goodfellow, Yoshua Bengio, Aaron Courville\\n分类：人工智能\\n价格：89.99\\n发布年份：2016-11\\n出版社：MIT Press\\n简介：这是一本关于深度学习的经典教材，覆盖深度学习的基本原理和应用。', metadata={'source': '计算机科学_edited.json', 'seq_num': 2, 'book_name': '深度学习', 'author': 'Ian Goodfellow, Yoshua Bengio, Aaron Courville', 'classify': '人工智能', 'price': 89.99, 'publish_date': '2016-11', 'press': 'MIT Press', 'summary': '这是一本关于深度学习的经典教材，覆盖深度学习的基本原理和应用。'})]"
      ]
     },
     "execution_count": 51,
     "metadata": {},
     "output_type": "execute_result"
    }
   ],
   "source": [
    "book_saler(\"我想成为计算机专家，有这方面的书吗\", min_threshold=0.6)"
   ]
  }
 ],
 "metadata": {
  "kernelspec": {
   "display_name": "Python 3 (ipykernel)",
   "language": "python",
   "name": "python3"
  },
  "language_info": {
   "codemirror_mode": {
    "name": "ipython",
    "version": 3
   },
   "file_extension": ".py",
   "mimetype": "text/x-python",
   "name": "python",
   "nbconvert_exporter": "python",
   "pygments_lexer": "ipython3",
   "version": "3.11.5"
  }
 },
 "nbformat": 4,
 "nbformat_minor": 5
}
