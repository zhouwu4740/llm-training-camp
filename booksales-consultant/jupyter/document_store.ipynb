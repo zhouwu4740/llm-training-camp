{
 "cells": [
  {
   "cell_type": "code",
   "execution_count": 26,
   "id": "3f6c1d04-d837-4382-8af2-08a29c758874",
   "metadata": {},
   "outputs": [],
   "source": [
    "import os\n",
    "from typing import List\n",
    "from langchain.schema import Document\n",
    "from langchain.embeddings import OpenAIEmbeddings\n",
    "from langchain.vectorstores.faiss import FAISS"
   ]
  },
  {
   "cell_type": "code",
   "execution_count": 27,
   "id": "c619a08b-010d-43bd-93c7-0c7bffdac993",
   "metadata": {},
   "outputs": [
    {
     "data": {
      "text/plain": [
       "['../resources/经济学.json',\n",
       " '../resources/计算机科学.json',\n",
       " '../resources/中国文学.json',\n",
       " '../resources/金融学.json',\n",
       " '../resources/哲学.json']"
      ]
     },
     "execution_count": 27,
     "metadata": {},
     "output_type": "execute_result"
    }
   ],
   "source": [
    "# 列出资源目录下的图书信息 json 文件路径列表\n",
    "fpaths = [f'../resources/{fname}' for fname in os.listdir('../resources/') \n",
    "          if fname.endswith('.json') and '_edited' not in fname]\n",
    "fpaths"
   ]
  },
  {
   "cell_type": "markdown",
   "id": "0c483f6a-6798-41bf-a7ef-909d6b062e92",
   "metadata": {},
   "source": [
    "### loading book documents"
   ]
  },
  {
   "cell_type": "code",
   "execution_count": 28,
   "id": "5395059f-25ae-47a6-a4f0-6713d64400b9",
   "metadata": {},
   "outputs": [],
   "source": [
    "# 合并文本字段作为 document content\n",
    "def combine_book_fields(fpath: str) -> List[Document]:\n",
    "    # 加载 json 文档，查看数据样式\n",
    "    books_computer = json.loads(Path(fpath).read_text())\n",
    "    \n",
    "    # 数据处理，合并图书各项信息作为 document content\n",
    "    for book in books_computer:\n",
    "        book['document_content'] = (\n",
    "        f'书名：《{book[\"book_name\"]}》\\n'\n",
    "        f'作者：{book[\"author\"]}\\n'\n",
    "        f'分类：{book[\"classify\"]}\\n'\n",
    "        f'价格：{book[\"price\"]}\\n'\n",
    "        f'发布年份：{book[\"publish_date\"].split(\"/\")[-1]}\\n'\n",
    "        f'出版社：{book[\"press\"]}\\n'\n",
    "        f'简介：{book[\"summary\"]}')\n",
    "\n",
    "    edited_file_path = f\"{fpath.split('.json')[0]}_edited.json\"\n",
    "    # 重新存入文件\n",
    "    with open(edited_file_path, 'w') as f:\n",
    "        f.write(json.dumps(books_computer))\n",
    "    \n",
    "    # 文档 metadata 函数，用于关联对应的 Document\n",
    "    def metadata_func(record: dict, metadata: dict) -> dict:\n",
    "        metadata.update(record)\n",
    "        if 'document_content' in metadata:\n",
    "            del metadata['document_content']\n",
    "        if 'source' in metadata:\n",
    "            metadata['source'] = metadata['source'].split('/')[-1]\n",
    "        return metadata\n",
    "    \n",
    "    # 使用 JSONLoader 加载json文档\n",
    "    # 使用 JSONLoader 加载json文档\n",
    "    loader = JSONLoader(edited_file_path, \n",
    "                        jq_schema='.[]',\n",
    "                        content_key='document_content',\n",
    "                        metadata_func=metadata_func)\n",
    "    return loader.load()"
   ]
  },
  {
   "cell_type": "code",
   "execution_count": 36,
   "id": "4d319bdb-5de8-40d4-8598-acb75e567d4c",
   "metadata": {},
   "outputs": [],
   "source": [
    "all_document = [combine_book_fields(fpath) for fpath in fpaths]"
   ]
  },
  {
   "cell_type": "code",
   "execution_count": 43,
   "id": "46c5ccfa-fc73-478d-9738-89616f8e744a",
   "metadata": {},
   "outputs": [
    {
     "name": "stdout",
     "output_type": "stream",
     "text": [
      "50\n"
     ]
    }
   ],
   "source": [
    "documents = [doc for documents in all_document for doc in documents]\n",
    "print(len(documents))"
   ]
  },
  {
   "cell_type": "code",
   "execution_count": 44,
   "id": "e02ac36e-c8ed-43bf-ab05-1d4f1ba50907",
   "metadata": {},
   "outputs": [],
   "source": [
    "# initialize openai embedding\n",
    "embedding = OpenAIEmbeddings()"
   ]
  },
  {
   "cell_type": "code",
   "execution_count": 45,
   "id": "5295fefd-20f6-4293-86ec-4d7142eca235",
   "metadata": {},
   "outputs": [],
   "source": [
    "db = FAISS.from_documents(documents, embedding)"
   ]
  },
  {
   "cell_type": "code",
   "execution_count": 46,
   "id": "c0e4c5a1-c505-477c-af50-e4648de999e0",
   "metadata": {},
   "outputs": [],
   "source": [
    "db.save_local('books')"
   ]
  },
  {
   "cell_type": "code",
   "execution_count": 49,
   "id": "271a3d98-b1b0-4c5c-a046-568091c3bfc6",
   "metadata": {},
   "outputs": [
    {
     "data": {
      "text/plain": [
       "[Document(page_content='书名：《Python 编程入门》\\n作者：Eric Matthes\\n分类：编程语言\\n价格：59.99\\n发布年份：2020-03\\n出版社：No Starch Press\\n简介：这本书是初学者学习 Python 编程的绝佳选择，包含大量示例和练习，逐步引导读者掌握 Python 编程基础。', metadata={'source': '计算机科学_edited.json', 'seq_num': 1, 'book_name': 'Python 编程入门', 'author': 'Eric Matthes', 'classify': '编程语言', 'price': 59.99, 'publish_date': '2020-03', 'press': 'No Starch Press', 'summary': '这本书是初学者学习 Python 编程的绝佳选择，包含大量示例和练习，逐步引导读者掌握 Python 编程基础。'}),\n",
       " Document(page_content=\"书名：《Web开发权威指南》\\n作者：Eric Freeman, Elisabeth Robson, Kathy Sierra, Bert Bates\\n分类：Web开发\\n价格：69.99\\n发布年份：2006-11\\n出版社：O'Reilly Media\\n简介：这本书全面介绍了 Web 开发的各个方面，包括前端和后端开发技术。\", metadata={'source': '计算机科学_edited.json', 'seq_num': 7, 'book_name': 'Web开发权威指南', 'author': 'Eric Freeman, Elisabeth Robson, Kathy Sierra, Bert Bates', 'classify': 'Web开发', 'price': 69.99, 'publish_date': '2006-11', 'press': \"O'Reilly Media\", 'summary': '这本书全面介绍了 Web 开发的各个方面，包括前端和后端开发技术。'}),\n",
       " Document(page_content='书名：《人机交互: 设计原理与实践》\\n作者：Alan Cooper, Robert Reimann, David Cronin, Christopher Noessel\\n分类：人机交互\\n价格：59.99\\n发布年份：2014-06\\n出版社：Wiley\\n简介：本书探讨了人机交互的设计原理和最佳实践，帮助设计师创建用户友好的应用和界面。', metadata={'source': '计算机科学_edited.json', 'seq_num': 9, 'book_name': '人机交互: 设计原理与实践', 'author': 'Alan Cooper, Robert Reimann, David Cronin, Christopher Noessel', 'classify': '人机交互', 'price': 59.99, 'publish_date': '2014-06', 'press': 'Wiley', 'summary': '本书探讨了人机交互的设计原理和最佳实践，帮助设计师创建用户友好的应用和界面。'})]"
      ]
     },
     "execution_count": 49,
     "metadata": {},
     "output_type": "execute_result"
    }
   ],
   "source": [
    "db.similarity_search('编程', k=3)"
   ]
  },
  {
   "cell_type": "code",
   "execution_count": 50,
   "id": "a5755f21-7cba-4cf7-90fe-e4efb9dd76f7",
   "metadata": {},
   "outputs": [
    {
     "data": {
      "text/plain": [
       "[Document(page_content='书名：《西方哲学史》\\n作者：Bertrand Russell\\n分类：哲学史\\n价格：49.99\\n发布年份：2018-04\\n出版社：Routledge\\n简介：这本书回顾了西方哲学的历史发展，从古希腊哲学到现代哲学思想，涵盖了众多哲学家和哲学流派。', metadata={'source': '哲学_edited.json', 'seq_num': 1, 'book_name': '西方哲学史', 'author': 'Bertrand Russell', 'classify': '哲学史', 'price': 49.99, 'publish_date': '2018-04', 'press': 'Routledge', 'summary': '这本书回顾了西方哲学的历史发展，从古希腊哲学到现代哲学思想，涵盖了众多哲学家和哲学流派。'}),\n",
       " Document(page_content='书名：《经济学的思维方式》\\n作者：Paul Heyne\\n分类：经济学方法论\\n价格：49.99\\n发布年份：2015-12\\n出版社：Liberty Fund\\n简介：这本书讨论了经济学的思考方式，帮助读者理解和应用经济学原理来解决问题。', metadata={'source': '经济学_edited.json', 'seq_num': 6, 'book_name': '经济学的思维方式', 'author': 'Paul Heyne', 'classify': '经济学方法论', 'price': 49.99, 'publish_date': '2015-12', 'press': 'Liberty Fund', 'summary': '这本书讨论了经济学的思考方式，帮助读者理解和应用经济学原理来解决问题。'}),\n",
       " Document(page_content='书名：《知识与信仰》\\n作者：Alvin Plantinga\\n分类：宗教哲学\\n价格：31.99\\n发布年份：2015-11\\n出版社：Oxford University Press\\n简介：这本书探讨了知识、信仰和神的存在之间的关系，是神学和哲学的交叉领域研究。', metadata={'source': '哲学_edited.json', 'seq_num': 7, 'book_name': '知识与信仰', 'author': 'Alvin Plantinga', 'classify': '宗教哲学', 'price': 31.99, 'publish_date': '2015-11', 'press': 'Oxford University Press', 'summary': '这本书探讨了知识、信仰和神的存在之间的关系，是神学和哲学的交叉领域研究。'})]"
      ]
     },
     "execution_count": 50,
     "metadata": {},
     "output_type": "execute_result"
    }
   ],
   "source": [
    "db.similarity_search('我想买本哲学方面的书', k=3)"
   ]
  },
  {
   "cell_type": "code",
   "execution_count": 52,
   "id": "dc3d1ada-e4a9-4839-b281-1c2640f10a8a",
   "metadata": {},
   "outputs": [
    {
     "data": {
      "text/plain": [
       "[Document(page_content='书名：《活着》\\n作者：余华\\n分类：现代小说\\n价格：29.99\\n发布年份：1993-05\\n出版社：上海文艺出版社\\n简介：这是一部描写中国社会动荡历史下一个人命运的小说，深刻反映了生存的苦难和人性的坚韧。', metadata={'source': '中国文学_edited.json', 'seq_num': 2, 'book_name': '活着', 'author': '余华', 'classify': '现代小说', 'price': 29.99, 'publish_date': '1993-05', 'press': '上海文艺出版社', 'summary': '这是一部描写中国社会动荡历史下一个人命运的小说，深刻反映了生存的苦难和人性的坚韧。'}),\n",
       " Document(page_content='书名：《大数据时代》\\n作者：Viktor Mayer-Schönberger, Kenneth Cukier\\n分类：大数据\\n价格：49.99\\n发布年份：2013-03\\n出版社：Houghton Mifflin Harcourt\\n简介：这本书探讨了大数据对社会和业务的影响，以及如何在大数据时代中获得洞见。', metadata={'source': '计算机科学_edited.json', 'seq_num': 10, 'book_name': '大数据时代', 'author': 'Viktor Mayer-Schönberger, Kenneth Cukier', 'classify': '大数据', 'price': 49.99, 'publish_date': '2013-03', 'press': 'Houghton Mifflin Harcourt', 'summary': '这本书探讨了大数据对社会和业务的影响，以及如何在大数据时代中获得洞见。'}),\n",
       " Document(page_content='书名：《金融数学》\\n作者：Martin Baxter, Andrew Rennie\\n分类：金融数学\\n价格：59.99\\n发布年份：2015-06\\n出版社：Wiley\\n简介：该书介绍了金融数学的基本概念和工具，包括期权定价、风险管理等方面的数学方法。', metadata={'source': '金融学_edited.json', 'seq_num': 6, 'book_name': '金融数学', 'author': 'Martin Baxter, Andrew Rennie', 'classify': '金融数学', 'price': 59.99, 'publish_date': '2015-06', 'press': 'Wiley', 'summary': '该书介绍了金融数学的基本概念和工具，包括期权定价、风险管理等方面的数学方法。'})]"
      ]
     },
     "execution_count": 52,
     "metadata": {},
     "output_type": "execute_result"
    }
   ],
   "source": [
    "db.similarity_search('你这里有发布年份为2015年的书吗', k=3)"
   ]
  },
  {
   "cell_type": "code",
   "execution_count": 53,
   "id": "287da549-de35-4b54-8a26-5406969ebd67",
   "metadata": {},
   "outputs": [
    {
     "data": {
      "text/plain": [
       "[Document(page_content='书名：《金融市场学》\\n作者：William F. Sharpe, Gordon J. Alexander, Jeffrey V. Bailey\\n分类：金融学\\n价格：79.99\\n发布年份：2018-05\\n出版社：Pearson\\n简介：这本书介绍了金融市场的基本原理和运作方式，涵盖了股票、债券、衍生品等金融工具。', metadata={'source': '金融学_edited.json', 'seq_num': 1, 'book_name': '金融市场学', 'author': 'William F. Sharpe, Gordon J. Alexander, Jeffrey V. Bailey', 'classify': '金融学', 'price': 79.99, 'publish_date': '2018-05', 'press': 'Pearson', 'summary': '这本书介绍了金融市场的基本原理和运作方式，涵盖了股票、债券、衍生品等金融工具。'}),\n",
       " Document(page_content='书名：《金融数学》\\n作者：Martin Baxter, Andrew Rennie\\n分类：金融数学\\n价格：59.99\\n发布年份：2015-06\\n出版社：Wiley\\n简介：该书介绍了金融数学的基本概念和工具，包括期权定价、风险管理等方面的数学方法。', metadata={'source': '金融学_edited.json', 'seq_num': 6, 'book_name': '金融数学', 'author': 'Martin Baxter, Andrew Rennie', 'classify': '金融数学', 'price': 59.99, 'publish_date': '2015-06', 'press': 'Wiley', 'summary': '该书介绍了金融数学的基本概念和工具，包括期权定价、风险管理等方面的数学方法。'}),\n",
       " Document(page_content='书名：《金融工程学》\\n作者：Paul P. Dorfman\\n分类：金融工程\\n价格：69.99\\n发布年份：2019-09\\n出版社：Wiley\\n简介：该书探讨了金融工程领域的数学、统计和计算方法，以及金融市场的风险管理。', metadata={'source': '金融学_edited.json', 'seq_num': 2, 'book_name': '金融工程学', 'author': 'Paul P. Dorfman', 'classify': '金融工程', 'price': 69.99, 'publish_date': '2019-09', 'press': 'Wiley', 'summary': '该书探讨了金融工程领域的数学、统计和计算方法，以及金融市场的风险管理。'}),\n",
       " Document(page_content='书名：《货币金融学》\\n作者：Frederic S. Mishkin\\n分类：货币金融学\\n价格：69.99\\n发布年份：2019-11\\n出版社：Pearson\\n简介：该书涵盖了货币市场、中央银行政策、货币供应等货币金融学的主题。', metadata={'source': '经济学_edited.json', 'seq_num': 8, 'book_name': '货币金融学', 'author': 'Frederic S. Mishkin', 'classify': '货币金融学', 'price': 69.99, 'publish_date': '2019-11', 'press': 'Pearson', 'summary': '该书涵盖了货币市场、中央银行政策、货币供应等货币金融学的主题。'})]"
      ]
     },
     "execution_count": 53,
     "metadata": {},
     "output_type": "execute_result"
    }
   ],
   "source": [
    "db.similarity_search('我想买一本金融方面的书，你这里有吗')"
   ]
  },
  {
   "cell_type": "code",
   "execution_count": 54,
   "id": "0dbc43bd-a92c-4587-a2b1-8d58fb8ef726",
   "metadata": {},
   "outputs": [
    {
     "data": {
      "text/plain": [
       "[Document(page_content='书名：《西方哲学史》\\n作者：Bertrand Russell\\n分类：哲学史\\n价格：49.99\\n发布年份：2018-04\\n出版社：Routledge\\n简介：这本书回顾了西方哲学的历史发展，从古希腊哲学到现代哲学思想，涵盖了众多哲学家和哲学流派。', metadata={'source': '哲学_edited.json', 'seq_num': 1, 'book_name': '西方哲学史', 'author': 'Bertrand Russell', 'classify': '哲学史', 'price': 49.99, 'publish_date': '2018-04', 'press': 'Routledge', 'summary': '这本书回顾了西方哲学的历史发展，从古希腊哲学到现代哲学思想，涵盖了众多哲学家和哲学流派。'}),\n",
       " Document(page_content='书名：《知识与信仰》\\n作者：Alvin Plantinga\\n分类：宗教哲学\\n价格：31.99\\n发布年份：2015-11\\n出版社：Oxford University Press\\n简介：这本书探讨了知识、信仰和神的存在之间的关系，是神学和哲学的交叉领域研究。', metadata={'source': '哲学_edited.json', 'seq_num': 7, 'book_name': '知识与信仰', 'author': 'Alvin Plantinga', 'classify': '宗教哲学', 'price': 31.99, 'publish_date': '2015-11', 'press': 'Oxford University Press', 'summary': '这本书探讨了知识、信仰和神的存在之间的关系，是神学和哲学的交叉领域研究。'}),\n",
       " Document(page_content='书名：《符号、信仰和神话》\\n作者：Mircea Eliade\\n分类：宗教哲学\\n价格：29.99\\n发布年份：1969\\n出版社：Harper & Row\\n简介：这本书研究了宗教和神话在人类文化中的重要性，以及它们对信仰和意义的影响。', metadata={'source': '哲学_edited.json', 'seq_num': 4, 'book_name': '符号、信仰和神话', 'author': 'Mircea Eliade', 'classify': '宗教哲学', 'price': 29.99, 'publish_date': '1969', 'press': 'Harper & Row', 'summary': '这本书研究了宗教和神话在人类文化中的重要性，以及它们对信仰和意义的影响。'}),\n",
       " Document(page_content='书名：《伦理学的地平线》\\n作者：Emmanuel Levinas\\n分类：伦理学\\n价格：27.99\\n发布年份：1984\\n出版社：Martinus Nijhoff\\n简介：该书探讨了伦理学的哲学基础，强调他者的重要性和伦理关系的本质。', metadata={'source': '哲学_edited.json', 'seq_num': 8, 'book_name': '伦理学的地平线', 'author': 'Emmanuel Levinas', 'classify': '伦理学', 'price': 27.99, 'publish_date': '1984', 'press': 'Martinus Nijhoff', 'summary': '该书探讨了伦理学的哲学基础，强调他者的重要性和伦理关系的本质。'})]"
      ]
     },
     "execution_count": 54,
     "metadata": {},
     "output_type": "execute_result"
    }
   ],
   "source": [
    "db.similarity_search('你有哪些哲学方面的书')"
   ]
  },
  {
   "cell_type": "code",
   "execution_count": 63,
   "id": "a4a17e9e-5551-432c-bf29-724611162ad8",
   "metadata": {},
   "outputs": [
    {
     "data": {
      "text/plain": [
       "[(Document(page_content='书名：《符号、信仰和神话》\\n作者：Mircea Eliade\\n分类：宗教哲学\\n价格：29.99\\n发布年份：1969\\n出版社：Harper & Row\\n简介：这本书研究了宗教和神话在人类文化中的重要性，以及它们对信仰和意义的影响。', metadata={'source': '哲学_edited.json', 'seq_num': 4, 'book_name': '符号、信仰和神话', 'author': 'Mircea Eliade', 'classify': '宗教哲学', 'price': 29.99, 'publish_date': '1969', 'press': 'Harper & Row', 'summary': '这本书研究了宗教和神话在人类文化中的重要性，以及它们对信仰和意义的影响。'}),\n",
       "  0.7983955656231112)]"
      ]
     },
     "execution_count": 63,
     "metadata": {},
     "output_type": "execute_result"
    }
   ],
   "source": [
    "db.similarity_search_with_relevance_scores(query='你有Mircea Eliade写的书吗', filter=dict(author=\"Mircea Eliade\"))"
   ]
  },
  {
   "cell_type": "code",
   "execution_count": 58,
   "id": "fa9ddec2-7acd-4265-8087-5cbe6aff86e8",
   "metadata": {},
   "outputs": [
    {
     "data": {
      "text/plain": [
       "\u001b[0;31mSignature:\u001b[0m\n",
       "\u001b[0mdb\u001b[0m\u001b[0;34m.\u001b[0m\u001b[0msimilarity_search\u001b[0m\u001b[0;34m(\u001b[0m\u001b[0;34m\u001b[0m\n",
       "\u001b[0;34m\u001b[0m    \u001b[0mquery\u001b[0m\u001b[0;34m:\u001b[0m \u001b[0;34m'str'\u001b[0m\u001b[0;34m,\u001b[0m\u001b[0;34m\u001b[0m\n",
       "\u001b[0;34m\u001b[0m    \u001b[0mk\u001b[0m\u001b[0;34m:\u001b[0m \u001b[0;34m'int'\u001b[0m \u001b[0;34m=\u001b[0m \u001b[0;36m4\u001b[0m\u001b[0;34m,\u001b[0m\u001b[0;34m\u001b[0m\n",
       "\u001b[0;34m\u001b[0m    \u001b[0mfilter\u001b[0m\u001b[0;34m:\u001b[0m \u001b[0;34m'Optional[Dict[str, Any]]'\u001b[0m \u001b[0;34m=\u001b[0m \u001b[0;32mNone\u001b[0m\u001b[0;34m,\u001b[0m\u001b[0;34m\u001b[0m\n",
       "\u001b[0;34m\u001b[0m    \u001b[0mfetch_k\u001b[0m\u001b[0;34m:\u001b[0m \u001b[0;34m'int'\u001b[0m \u001b[0;34m=\u001b[0m \u001b[0;36m20\u001b[0m\u001b[0;34m,\u001b[0m\u001b[0;34m\u001b[0m\n",
       "\u001b[0;34m\u001b[0m    \u001b[0;34m**\u001b[0m\u001b[0mkwargs\u001b[0m\u001b[0;34m:\u001b[0m \u001b[0;34m'Any'\u001b[0m\u001b[0;34m,\u001b[0m\u001b[0;34m\u001b[0m\n",
       "\u001b[0;34m\u001b[0m\u001b[0;34m)\u001b[0m \u001b[0;34m->\u001b[0m \u001b[0;34m'List[Document]'\u001b[0m\u001b[0;34m\u001b[0m\u001b[0;34m\u001b[0m\u001b[0m\n",
       "\u001b[0;31mDocstring:\u001b[0m\n",
       "Return docs most similar to query.\n",
       "\n",
       "Args:\n",
       "    query: Text to look up documents similar to.\n",
       "    k: Number of Documents to return. Defaults to 4.\n",
       "    filter: (Optional[Dict[str, str]]): Filter by metadata. Defaults to None.\n",
       "    fetch_k: (Optional[int]) Number of Documents to fetch before filtering.\n",
       "              Defaults to 20.\n",
       "\n",
       "Returns:\n",
       "    List of Documents most similar to the query.\n",
       "\u001b[0;31mFile:\u001b[0m      ~/Documents/Projects/llm-training-camp/booksales-consultant/.venv/lib/python3.11/site-packages/langchain/vectorstores/faiss.py\n",
       "\u001b[0;31mType:\u001b[0m      method"
      ]
     },
     "metadata": {},
     "output_type": "display_data"
    }
   ],
   "source": [
    "db.similarity_search?"
   ]
  }
 ],
 "metadata": {
  "kernelspec": {
   "display_name": "Python 3 (ipykernel)",
   "language": "python",
   "name": "python3"
  },
  "language_info": {
   "codemirror_mode": {
    "name": "ipython",
    "version": 3
   },
   "file_extension": ".py",
   "mimetype": "text/x-python",
   "name": "python",
   "nbconvert_exporter": "python",
   "pygments_lexer": "ipython3",
   "version": "3.11.5"
  }
 },
 "nbformat": 4,
 "nbformat_minor": 5
}
