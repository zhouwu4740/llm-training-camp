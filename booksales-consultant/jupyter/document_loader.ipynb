{
 "cells": [
  {
   "cell_type": "code",
   "execution_count": 1,
   "id": "0ff6245e-66c6-430f-af59-f44aa27ef528",
   "metadata": {},
   "outputs": [],
   "source": [
    "import json\n",
    "from pathlib import Path\n",
    "from prettyprinter import cpprint\n",
    "from langchain.document_loaders import JSONLoader"
   ]
  },
  {
   "cell_type": "code",
   "execution_count": 2,
   "id": "44bd7bd1-c782-4c5b-a5c2-476f8ce5a5a8",
   "metadata": {},
   "outputs": [
    {
     "name": "stdout",
     "output_type": "stream",
     "text": [
      "10\n",
      "[\n",
      "    {\n",
      "        'book_name': 'Python 编程入门',\n",
      "        'author': 'Eric Matthes',\n",
      "        'classify': '编程语言',\n",
      "        'price': 59.99,\n",
      "        'publish_date': '2020-03',\n",
      "        'press': 'No Starch Press',\n",
      "        'summary': '这本书是初学者学习 Python 编程的绝佳选择，包含大量示例和练习，逐步引导读者掌握 Python 编程基础。',\n",
      "        'document_content':\n",
      "            '    书名：《Python 编程入门》\\n    作者：Eric Matthes\\n    分类：编程语言\\n    价格：59.99\\n'\n",
      "            '    发布年份：2020-03\\n    出版社：No Starch Press\\n    简介：这本书是初学者学习 Python '\n",
      "            '编程的绝佳选择，包含大量示例和练习，逐步引导读者掌握 Python 编程基础。'\n",
      "    },\n",
      "    {\n",
      "        'book_name': '深度学习',\n",
      "        'author': 'Ian Goodfellow, Yoshua Bengio, Aaron Courville',\n",
      "        'classify': '人工智能',\n",
      "        'price': 89.99,\n",
      "        'publish_date': '2016-11',\n",
      "        'press': 'MIT Press',\n",
      "        'summary': '这是一本关于深度学习的经典教材，覆盖深度学习的基本原理和应用。',\n",
      "        'document_content':\n",
      "            '    书名：《深度学习》\\n    作者：Ian Goodfellow, Yoshua Bengio, Aaron Courville\\n'\n",
      "            '    分类：人工智能\\n    价格：89.99\\n    发布年份：2016-11\\n    出版社：MIT Press\\n    '\n",
      "            '简介：这是一本关于深度学习的经典教材，覆盖深度学习的基本原理和应用。'\n",
      "    }\n",
      "]\n"
     ]
    }
   ],
   "source": [
    "# 加载 json 文档，查看数据样式\n",
    "books_computer = json.loads(Path('../resources/计算机科学.json').read_text())\n",
    "\n",
    "print(len(books_computer))\n",
    "cpprint(books_computer[:2])"
   ]
  },
  {
   "cell_type": "code",
   "execution_count": 3,
   "id": "e3f18489-8692-4da9-a6e5-24d744c0204b",
   "metadata": {},
   "outputs": [],
   "source": [
    "# 数据处理，合并图书各项信息作为 document content\n",
    "for book in books_computer:\n",
    "    book['document_content'] = f\"\"\"\\\n",
    "    书名：《{book[\"book_name\"]}》\n",
    "    作者：{book[\"author\"]}\n",
    "    分类：{book[\"classify\"]}\n",
    "    价格：{book[\"price\"]}\n",
    "    发布年份：{book[\"publish_date\"].split('/')[-1]}\n",
    "    出版社：{book[\"press\"]}\n",
    "    简介：{book[\"summary\"]}\"\"\"\n",
    "\n",
    "with open('../resources/计算机科学.json', 'w') as f:\n",
    "    f.write(json.dumps(books_computer))"
   ]
  },
  {
   "cell_type": "code",
   "execution_count": 4,
   "id": "512730d0-70ef-4711-b19b-52cbd79294c4",
   "metadata": {},
   "outputs": [],
   "source": [
    "# 文档 metadata 函数，用于关联对应的 Document\n",
    "def metadata_func(record: dict, metadata: dict) -> dict:\n",
    "    metadata.update(record)\n",
    "    if 'document_content' in metadata:\n",
    "        del metadata['document_content']\n",
    "    if 'source' in metadata:\n",
    "        metadata['source'] = metadata['source'].split('/')[-1]\n",
    "    return metadata"
   ]
  },
  {
   "cell_type": "code",
   "execution_count": 5,
   "id": "4a223e9b-e3fd-4bc2-a976-229ea8f0926b",
   "metadata": {},
   "outputs": [
    {
     "name": "stdout",
     "output_type": "stream",
     "text": [
      "10\n",
      "    书名：《Python 编程入门》\n",
      "    作者：Eric Matthes\n",
      "    分类：编程语言\n",
      "    价格：59.99\n",
      "    发布年份：2020-03\n",
      "    出版社：No Starch Press\n",
      "    简介：这本书是初学者学习 Python 编程的绝佳选择，包含大量示例和练习，逐步引导读者掌握 Python 编程基础。\n"
     ]
    }
   ],
   "source": [
    "# 使用 JSONLoader 加载json文档\n",
    "loader = JSONLoader('../resources/计算机科学.json', \n",
    "                    jq_schema='.[]',\n",
    "                   content_key='document_content',\n",
    "                   metadata_func=metadata_func)\n",
    "documents = loader.load()\n",
    "print(len(documents))\n",
    "print(documents[0].page_content)"
   ]
  }
 ],
 "metadata": {
  "kernelspec": {
   "display_name": "Python 3 (ipykernel)",
   "language": "python",
   "name": "python3"
  },
  "language_info": {
   "codemirror_mode": {
    "name": "ipython",
    "version": 3
   },
   "file_extension": ".py",
   "mimetype": "text/x-python",
   "name": "python",
   "nbconvert_exporter": "python",
   "pygments_lexer": "ipython3",
   "version": "3.11.5"
  }
 },
 "nbformat": 4,
 "nbformat_minor": 5
}
