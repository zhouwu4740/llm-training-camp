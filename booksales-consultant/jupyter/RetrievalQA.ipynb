{
 "cells": [
  {
   "cell_type": "code",
   "execution_count": 22,
   "id": "a6fefdfc-d51f-4be7-822c-a2d1889ee747",
   "metadata": {},
   "outputs": [],
   "source": [
    "from langchain.chains import RetrievalQA\n",
    "from langchain.vectorstores.faiss import FAISS\n",
    "from langchain.llms import OpenAI\n",
    "from langchain.embeddings import OpenAIEmbeddings\n",
    "from prettyprinter import cpprint"
   ]
  },
  {
   "cell_type": "code",
   "execution_count": 20,
   "id": "3e864f96-e3ff-41f3-98b3-7d8778e4e60b",
   "metadata": {},
   "outputs": [],
   "source": [
    "llm = OpenAI(temperature=0.5)\n",
    "embedding = OpenAIEmbeddings()\n",
    "db = FAISS.load_local('./books/', embedding)\n",
    "retriver = db.as_retriever(\n",
    "    search_type=\"similarity_score_threshold\", \n",
    "    search_kwargs={\"score_threshold\": 0.7, \"k\": 3})\n",
    "booksaler = RetrievalQA.from_chain_type(llm=llm, retriever=retriver, verbose=True)\n",
    "booksaler.combine_documents_chain.verbose = True\n",
    "booksaler.return_source_documents = True"
   ]
  },
  {
   "cell_type": "code",
   "execution_count": 25,
   "id": "4ed1f9e0-3316-4772-8853-c796c02dc115",
   "metadata": {},
   "outputs": [
    {
     "name": "stdout",
     "output_type": "stream",
     "text": [
      "\n",
      "\n",
      "\u001b[1m> Entering new RetrievalQA chain...\u001b[0m\n",
      "\n",
      "\n",
      "\u001b[1m> Entering new StuffDocumentsChain chain...\u001b[0m\n",
      "\n",
      "\u001b[1m> Finished chain.\u001b[0m\n",
      "\n",
      "\u001b[1m> Finished chain.\u001b[0m\n",
      "{\n",
      "    'query': '有 python 方面的书吗',\n",
      "    'result':\n",
      "        ' 是的，《Python 编程入门》是一本关于 Python 编程的书，由 Eric Matthes 撰写，发布于 '\n",
      "        '2020-03，出版社为 No Starch Press，价格为 59.99。',\n",
      "    'source_documents': [\n",
      "        Document(page_content='书名：《Python 编程入门》\\n作者：Eric Matthes\\n分类：编程语言\\n价格：59.99\\n发布年份：2020-03\\n出版社：No Starch Press\\n简介：这本书是初学者学习 Python 编程的绝佳选择，包含大量示例和练习，逐步引导读者掌握 Python 编程基础。', metadata={'source': '计算机科学_edited.json', 'seq_num': 1, 'book_name': 'Python 编程入门', 'author': 'Eric Matthes', 'classify': '编程语言', 'price': 59.99, 'publish_date': '2020-03', 'press': 'No Starch Press', 'summary': '这本书是初学者学习 Python 编程的绝佳选择，包含大量示例和练习，逐步引导读者掌握 Python 编程基础。'}),\n",
      "        Document(page_content='书名：《深度学习》\\n作者：Ian Goodfellow, Yoshua Bengio, Aaron Courville\\n分类：人工智能\\n价格：89.99\\n发布年份：2016-11\\n出版社：MIT Press\\n简介：这是一本关于深度学习的经典教材，覆盖深度学习的基本原理和应用。', metadata={'source': '计算机科学_edited.json', 'seq_num': 2, 'book_name': '深度学习', 'author': 'Ian Goodfellow, Yoshua Bengio, Aaron Courville', 'classify': '人工智能', 'price': 89.99, 'publish_date': '2016-11', 'press': 'MIT Press', 'summary': '这是一本关于深度学习的经典教材，覆盖深度学习的基本原理和应用。'})\n",
      "    ]\n",
      "}\n",
      " 是的，《Python 编程入门》是一本关于 Python 编程的书，由 Eric Matthes 撰写，发布于 2020-03，出版社为 No Starch Press，价格为 59.99。\n"
     ]
    }
   ],
   "source": [
    "reply = booksaler(\"有 python 方面的书吗\")\n",
    "cpprint(reply)\n",
    "print(reply['result'])"
   ]
  },
  {
   "cell_type": "code",
   "execution_count": 27,
   "id": "dff43ae9-381b-4d04-8f63-1bf3f9efb48b",
   "metadata": {},
   "outputs": [
    {
     "name": "stdout",
     "output_type": "stream",
     "text": [
      "\n",
      "\n",
      "\u001b[1m> Entering new RetrievalQA chain...\u001b[0m\n",
      "\n",
      "\n",
      "\u001b[1m> Entering new StuffDocumentsChain chain...\u001b[0m\n",
      "\n",
      "\u001b[1m> Finished chain.\u001b[0m\n",
      "\n",
      "\u001b[1m> Finished chain.\u001b[0m\n",
      "{\n",
      "    'query': '我想了解一些东方哲学，有什么书可以推荐吗',\n",
      "    'result': ' 抱歉，我不了解东方哲学的书籍。',\n",
      "    'source_documents': [\n",
      "        Document(page_content='书名：《西方哲学史》\\n作者：Bertrand Russell\\n分类：哲学史\\n价格：49.99\\n发布年份：2018-04\\n出版社：Routledge\\n简介：这本书回顾了西方哲学的历史发展，从古希腊哲学到现代哲学思想，涵盖了众多哲学家和哲学流派。', metadata={'source': '哲学_edited.json', 'seq_num': 1, 'book_name': '西方哲学史', 'author': 'Bertrand Russell', 'classify': '哲学史', 'price': 49.99, 'publish_date': '2018-04', 'press': 'Routledge', 'summary': '这本书回顾了西方哲学的历史发展，从古希腊哲学到现代哲学思想，涵盖了众多哲学家和哲学流派。'}),\n",
      "        Document(page_content='书名：《知识与信仰》\\n作者：Alvin Plantinga\\n分类：宗教哲学\\n价格：31.99\\n发布年份：2015-11\\n出版社：Oxford University Press\\n简介：这本书探讨了知识、信仰和神的存在之间的关系，是神学和哲学的交叉领域研究。', metadata={'source': '哲学_edited.json', 'seq_num': 7, 'book_name': '知识与信仰', 'author': 'Alvin Plantinga', 'classify': '宗教哲学', 'price': 31.99, 'publish_date': '2015-11', 'press': 'Oxford University Press', 'summary': '这本书探讨了知识、信仰和神的存在之间的关系，是神学和哲学的交叉领域研究。'}),\n",
      "        Document(page_content='书名：《符号、信仰和神话》\\n作者：Mircea Eliade\\n分类：宗教哲学\\n价格：29.99\\n发布年份：1969\\n出版社：Harper & Row\\n简介：这本书研究了宗教和神话在人类文化中的重要性，以及它们对信仰和意义的影响。', metadata={'source': '哲学_edited.json', 'seq_num': 4, 'book_name': '符号、信仰和神话', 'author': 'Mircea Eliade', 'classify': '宗教哲学', 'price': 29.99, 'publish_date': '1969', 'press': 'Harper & Row', 'summary': '这本书研究了宗教和神话在人类文化中的重要性，以及它们对信仰和意义的影响。'})\n",
      "    ]\n",
      "}\n",
      " 抱歉，我不了解东方哲学的书籍。\n"
     ]
    }
   ],
   "source": [
    "reply = booksaler(\"我想了解一些东方哲学，有什么书可以推荐吗\")\n",
    "cpprint(reply)\n",
    "print(reply['result'])"
   ]
  },
  {
   "cell_type": "code",
   "execution_count": 28,
   "id": "a90388d4-cf6e-40f6-8bf5-78a37fb2a7e2",
   "metadata": {},
   "outputs": [
    {
     "name": "stdout",
     "output_type": "stream",
     "text": [
      "\n",
      "\n",
      "\u001b[1m> Entering new RetrievalQA chain...\u001b[0m\n",
      "\n",
      "\n",
      "\u001b[1m> Entering new StuffDocumentsChain chain...\u001b[0m\n",
      "\n",
      "\u001b[1m> Finished chain.\u001b[0m\n",
      "\n",
      "\u001b[1m> Finished chain.\u001b[0m\n",
      "{\n",
      "    'query': '我想了解一些西方哲学，有什么书可以推荐吗',\n",
      "    'result':\n",
      "        ' 《西方哲学史》是一本很好的书，由Bertrand '\n",
      "        'Russell于2018年4月出版，出版社是Routledge，价格为49.99美元。它回顾了西方哲学的历史发展，从古希腊哲学到现代哲学思'\n",
      "        '想，涵盖了众多哲学家和哲学流派。',\n",
      "    'source_documents': [\n",
      "        Document(page_content='书名：《西方哲学史》\\n作者：Bertrand Russell\\n分类：哲学史\\n价格：49.99\\n发布年份：2018-04\\n出版社：Routledge\\n简介：这本书回顾了西方哲学的历史发展，从古希腊哲学到现代哲学思想，涵盖了众多哲学家和哲学流派。', metadata={'source': '哲学_edited.json', 'seq_num': 1, 'book_name': '西方哲学史', 'author': 'Bertrand Russell', 'classify': '哲学史', 'price': 49.99, 'publish_date': '2018-04', 'press': 'Routledge', 'summary': '这本书回顾了西方哲学的历史发展，从古希腊哲学到现代哲学思想，涵盖了众多哲学家和哲学流派。'}),\n",
      "        Document(page_content='书名：《知识与信仰》\\n作者：Alvin Plantinga\\n分类：宗教哲学\\n价格：31.99\\n发布年份：2015-11\\n出版社：Oxford University Press\\n简介：这本书探讨了知识、信仰和神的存在之间的关系，是神学和哲学的交叉领域研究。', metadata={'source': '哲学_edited.json', 'seq_num': 7, 'book_name': '知识与信仰', 'author': 'Alvin Plantinga', 'classify': '宗教哲学', 'price': 31.99, 'publish_date': '2015-11', 'press': 'Oxford University Press', 'summary': '这本书探讨了知识、信仰和神的存在之间的关系，是神学和哲学的交叉领域研究。'}),\n",
      "        Document(page_content='书名：《道德原则与行动理论》\\n作者：David Ross\\n分类：道德哲学\\n价格：34.99\\n发布年份：2002-09\\n出版社：Hackett Publishing\\n简介：该书讨论了道德原则和行动理论，探究了伦理学中的基本概念和道德决策的原则。', metadata={'source': '哲学_edited.json', 'seq_num': 3, 'book_name': '道德原则与行动理论', 'author': 'David Ross', 'classify': '道德哲学', 'price': 34.99, 'publish_date': '2002-09', 'press': 'Hackett Publishing', 'summary': '该书讨论了道德原则和行动理论，探究了伦理学中的基本概念和道德决策的原则。'})\n",
      "    ]\n",
      "}\n",
      " 《西方哲学史》是一本很好的书，由Bertrand Russell于2018年4月出版，出版社是Routledge，价格为49.99美元。它回顾了西方哲学的历史发展，从古希腊哲学到现代哲学思想，涵盖了众多哲学家和哲学流派。\n"
     ]
    }
   ],
   "source": [
    "reply = booksaler(\"我想了解一些西方哲学，有什么书可以推荐吗\")\n",
    "cpprint(reply)\n",
    "print(reply['result'])"
   ]
  },
  {
   "cell_type": "markdown",
   "id": "642213ef-1827-4e0e-8e46-8ec044f79379",
   "metadata": {},
   "source": [
    "## 修改 Prompt，当书店缺少书籍时回复特定内容"
   ]
  },
  {
   "cell_type": "code",
   "execution_count": 37,
   "id": "d386b353-c578-450c-b3e7-7f2c43f8adef",
   "metadata": {},
   "outputs": [],
   "source": [
    "from langchain.prompts import PromptTemplate\n",
    "\n",
    "prompt_template = \"\"\"Use the following pieces of context to answer the question at the end. If you don't know the answer, just say that use the general reply with \"missing reply\", don't try to make up an answer.\n",
    "\n",
    "{context}\n",
    "\n",
    "[missing reply]\n",
    "We are missing this type of book, I will record it and inform the backend to replenish it. Can I notify you when the goods arrive?\n",
    "\n",
    "Question: {question}\n",
    "Helpful Answer:\"\"\"\n",
    "prompt = PromptTemplate(\n",
    "    template=prompt_template, input_variables=[\"context\", \"question\"]\n",
    ")"
   ]
  },
  {
   "cell_type": "code",
   "execution_count": 38,
   "id": "f2b6b306-c565-4030-803b-e8908405f169",
   "metadata": {},
   "outputs": [],
   "source": [
    "booksaler_v2 = RetrievalQA.from_chain_type(llm=llm, retriever=retriver, verbose=True)\n",
    "booksaler_v2.combine_documents_chain.verbose = True\n",
    "booksaler_v2.return_source_documents = True\n",
    "booksaler_v2.combine_documents_chain.llm_chain.prompt=prompt"
   ]
  },
  {
   "cell_type": "code",
   "execution_count": 39,
   "id": "b9fca660-c46b-42fb-bc8e-55c101dc8b9f",
   "metadata": {},
   "outputs": [
    {
     "name": "stdout",
     "output_type": "stream",
     "text": [
      "\n",
      "\n",
      "\u001b[1m> Entering new RetrievalQA chain...\u001b[0m\n",
      "\n",
      "\n",
      "\u001b[1m> Entering new StuffDocumentsChain chain...\u001b[0m\n",
      "\n",
      "\u001b[1m> Finished chain.\u001b[0m\n",
      "\n",
      "\u001b[1m> Finished chain.\u001b[0m\n",
      "{\n",
      "    'query': '我想了解一些东方哲学，有什么书可以推荐吗',\n",
      "    'result': ' 很抱歉，我们店里暂时没有东方哲学的书，我会记录下这方面的书籍并通知后台补货，到货时可以通知您吗？',\n",
      "    'source_documents': [\n",
      "        Document(page_content='书名：《西方哲学史》\\n作者：Bertrand Russell\\n分类：哲学史\\n价格：49.99\\n发布年份：2018-04\\n出版社：Routledge\\n简介：这本书回顾了西方哲学的历史发展，从古希腊哲学到现代哲学思想，涵盖了众多哲学家和哲学流派。', metadata={'source': '哲学_edited.json', 'seq_num': 1, 'book_name': '西方哲学史', 'author': 'Bertrand Russell', 'classify': '哲学史', 'price': 49.99, 'publish_date': '2018-04', 'press': 'Routledge', 'summary': '这本书回顾了西方哲学的历史发展，从古希腊哲学到现代哲学思想，涵盖了众多哲学家和哲学流派。'}),\n",
      "        Document(page_content='书名：《知识与信仰》\\n作者：Alvin Plantinga\\n分类：宗教哲学\\n价格：31.99\\n发布年份：2015-11\\n出版社：Oxford University Press\\n简介：这本书探讨了知识、信仰和神的存在之间的关系，是神学和哲学的交叉领域研究。', metadata={'source': '哲学_edited.json', 'seq_num': 7, 'book_name': '知识与信仰', 'author': 'Alvin Plantinga', 'classify': '宗教哲学', 'price': 31.99, 'publish_date': '2015-11', 'press': 'Oxford University Press', 'summary': '这本书探讨了知识、信仰和神的存在之间的关系，是神学和哲学的交叉领域研究。'}),\n",
      "        Document(page_content='书名：《符号、信仰和神话》\\n作者：Mircea Eliade\\n分类：宗教哲学\\n价格：29.99\\n发布年份：1969\\n出版社：Harper & Row\\n简介：这本书研究了宗教和神话在人类文化中的重要性，以及它们对信仰和意义的影响。', metadata={'source': '哲学_edited.json', 'seq_num': 4, 'book_name': '符号、信仰和神话', 'author': 'Mircea Eliade', 'classify': '宗教哲学', 'price': 29.99, 'publish_date': '1969', 'press': 'Harper & Row', 'summary': '这本书研究了宗教和神话在人类文化中的重要性，以及它们对信仰和意义的影响。'})\n",
      "    ]\n",
      "}\n",
      " 很抱歉，我们店里暂时没有东方哲学的书，我会记录下这方面的书籍并通知后台补货，到货时可以通知您吗？\n"
     ]
    }
   ],
   "source": [
    "reply = booksaler_v2(\"我想了解一些东方哲学，有什么书可以推荐吗\")\n",
    "cpprint(reply)\n",
    "print(reply['result'])"
   ]
  }
 ],
 "metadata": {
  "kernelspec": {
   "display_name": "Python 3 (ipykernel)",
   "language": "python",
   "name": "python3"
  },
  "language_info": {
   "codemirror_mode": {
    "name": "ipython",
    "version": 3
   },
   "file_extension": ".py",
   "mimetype": "text/x-python",
   "name": "python",
   "nbconvert_exporter": "python",
   "pygments_lexer": "ipython3",
   "version": "3.11.5"
  }
 },
 "nbformat": 4,
 "nbformat_minor": 5
}
