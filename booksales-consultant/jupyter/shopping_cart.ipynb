{
 "cells": [
  {
   "cell_type": "code",
   "execution_count": 18,
   "id": "0ad214fc-116e-4d1b-a986-140573e61423",
   "metadata": {},
   "outputs": [],
   "source": [
    "from pydantic import BaseModel\n",
    "from langchain.chat_models import ChatOpenAI\n",
    "from langchain.prompts import PromptTemplate\n",
    "from langchain.prompts.chat import ChatPromptTemplate\n",
    "from langchain.schema.messages import AIMessage, HumanMessage\n",
    "from langchain.utils.openai_functions import convert_pydantic_to_openai_function\n",
    "from langchain.schema.runnable import RunnablePassthrough"
   ]
  },
  {
   "cell_type": "code",
   "execution_count": 3,
   "id": "7010b27c-a3b0-4ac8-99ef-cdfc440d1400",
   "metadata": {},
   "outputs": [],
   "source": [
    "class AddToShoppingCart(BaseModel):\n",
    "    \"\"\"添加商品到购物车\"\"\"\n",
    "    name: str\n",
    "    \"\"\"商品名称\"\"\"\n",
    "    price: float\n",
    "    \"\"\"商品价格\"\"\"\n",
    "\n",
    "class RemoveFromShoppingCart(BaseModel):\n",
    "    \"\"\"从购物车中移除商品\"\"\"\n",
    "    name: str\n",
    "    \"\"\"商品名称\"\"\"\n",
    "\n",
    "class ReviewShoppingCart(BaseModel):\n",
    "    \"\"\"查看购物车清单\"\"\"\n",
    "\n",
    "class Checkout(BaseModel):\n",
    "    \"\"\"购物车结算\"\"\"\n",
    "    "
   ]
  },
  {
   "cell_type": "code",
   "execution_count": 40,
   "id": "fe416721-219c-4311-89fb-0ef96d244a62",
   "metadata": {},
   "outputs": [],
   "source": [
    "template = \"\"\"根据客户的问题选择对应的方法去完成客户的需求，方法需要的参数可以从历史对话中检索出来。如果信息不全，参数可以用None替代。不要凭空构造数值\n",
    "history:\n",
    "{history}\n",
    "\n",
    "request:\n",
    "{request}\n",
    "\"\"\"\n",
    "\n",
    "prompt = PromptTemplate.from_template(template)"
   ]
  },
  {
   "cell_type": "code",
   "execution_count": 33,
   "id": "aa85ebb8-6ae8-47df-ba48-f7c33e4fcd0c",
   "metadata": {},
   "outputs": [
    {
     "data": {
      "text/plain": [
       "ChatPromptTemplate(input_variables=[], messages=[HumanMessagePromptTemplate(prompt=PromptTemplate(input_variables=[], template='我想买一本 Python 入门的书籍')), AIMessagePromptTemplate(prompt=PromptTemplate(input_variables=[], template='我这里有《Python in Action》，这本书比较适合入门。也不贵，只需要 51.2 元'))])"
      ]
     },
     "execution_count": 33,
     "metadata": {},
     "output_type": "execute_result"
    }
   ],
   "source": [
    "history = ChatPromptTemplate.from_messages([\n",
    "    (\"human\", \"我想买一本 Python 入门的书籍\"),\n",
    "    (\"ai\", \"我这里有《Python in Action》，这本书比较适合入门。也不贵，只需要 51.2 元\")\n",
    "])\n",
    "history"
   ]
  },
  {
   "cell_type": "code",
   "execution_count": 20,
   "id": "b60621e5-35ec-4c08-ba83-6277b271d7fb",
   "metadata": {},
   "outputs": [
    {
     "data": {
      "text/plain": [
       "'Human: 我想买一本 Python 入门的书籍\\nAI: 我这里有《Python in Action》，这本书比较适合入门。也不贵，只需要 51.2 元'"
      ]
     },
     "execution_count": 20,
     "metadata": {},
     "output_type": "execute_result"
    }
   ],
   "source": [
    "history"
   ]
  },
  {
   "cell_type": "code",
   "execution_count": 34,
   "id": "b528d665-bfe0-4fee-984c-a7d6a519ccd3",
   "metadata": {},
   "outputs": [
    {
     "data": {
      "text/plain": [
       "RunnableAssign(mapper={\n",
       "  history: ChatPromptTemplate(input_variables=[], messages=[HumanMessagePromptTemplate(prompt=PromptTemplate(input_variables=[], template='我想买一本 Python 入门的书籍')), AIMessagePromptTemplate(prompt=PromptTemplate(input_variables=[], template='我这里有《Python in Action》，这本书比较适合入门。也不贵，只需要 51.2 元'))])\n",
       "})"
      ]
     },
     "execution_count": 34,
     "metadata": {},
     "output_type": "execute_result"
    }
   ],
   "source": [
    "RunnablePassthrough.assign(history=history)"
   ]
  },
  {
   "cell_type": "code",
   "execution_count": 42,
   "id": "eda91a43-8194-4cf1-a5b8-0712ef26d2ac",
   "metadata": {},
   "outputs": [
    {
     "data": {
      "text/plain": [
       "AIMessage(content='', additional_kwargs={'function_call': {'name': 'AddToShoppingCart', 'arguments': '{\\n  \"name\": \"Python in Action\",\\n  \"price\": 51.2\\n}'}})"
      ]
     },
     "execution_count": 42,
     "metadata": {},
     "output_type": "execute_result"
    }
   ],
   "source": [
    "_add = convert_pydantic_to_openai_function(AddToShoppingCart)\n",
    "_remove = convert_pydantic_to_openai_function(RemoveFromShoppingCart)\n",
    "_review = convert_pydantic_to_openai_function(ReviewShoppingCart)\n",
    "_checkout = convert_pydantic_to_openai_function(Checkout)\n",
    "llm = ChatOpenAI(temperature=0).bind(functions=[_add, _remove, _review, _checkout])\n",
    "chain = RunnablePassthrough.assign(history=history) | prompt | llm\n",
    "chain.invoke({\"request\": \"好，我买这本\"})"
   ]
  },
  {
   "cell_type": "code",
   "execution_count": 46,
   "id": "7b05653f-ce06-428d-a789-7cec57cd62f3",
   "metadata": {},
   "outputs": [
    {
     "data": {
      "text/plain": [
       "AIMessage(content='', additional_kwargs={'function_call': {'name': 'RemoveFromShoppingCart', 'arguments': '{\\n  \"name\": \"Python in Action\"\\n}'}})"
      ]
     },
     "execution_count": 46,
     "metadata": {},
     "output_type": "execute_result"
    }
   ],
   "source": [
    "r = chain.invoke({\"request\": \"想了想，那本 Python in action还是不买了，你帮我取消吧\"})\n",
    "r"
   ]
  },
  {
   "cell_type": "code",
   "execution_count": 45,
   "id": "41dbd07f-5a93-42c9-9d19-91ea7dea62fc",
   "metadata": {},
   "outputs": [
    {
     "data": {
      "text/plain": [
       "AIMessage(content='', additional_kwargs={'function_call': {'name': 'ReviewShoppingCart', 'arguments': '{}'}})"
      ]
     },
     "execution_count": 45,
     "metadata": {},
     "output_type": "execute_result"
    }
   ],
   "source": [
    "chain.invoke({\"request\": \"列一下我一共买了那几本书\"})"
   ]
  },
  {
   "cell_type": "code",
   "execution_count": 44,
   "id": "67a9413d-e7f0-45d2-be13-3b39aa156fde",
   "metadata": {},
   "outputs": [
    {
     "data": {
      "text/plain": [
       "AIMessage(content='', additional_kwargs={'function_call': {'name': 'Checkout', 'arguments': '{}'}})"
      ]
     },
     "execution_count": 44,
     "metadata": {},
     "output_type": "execute_result"
    }
   ],
   "source": [
    "chain.invoke({\"request\": \"帮我结账\"})"
   ]
  },
  {
   "cell_type": "code",
   "execution_count": 47,
   "id": "3ec6d7f3-6366-460a-9293-be77ed5983d0",
   "metadata": {},
   "outputs": [
    {
     "data": {
      "text/plain": [
       "langchain.schema.messages.AIMessage"
      ]
     },
     "execution_count": 47,
     "metadata": {},
     "output_type": "execute_result"
    }
   ],
   "source": [
    "type(r)"
   ]
  },
  {
   "cell_type": "code",
   "execution_count": 52,
   "id": "932d8f28-c08e-499d-ab6b-c3c04dae3018",
   "metadata": {},
   "outputs": [
    {
     "data": {
      "text/plain": [
       "{'name': 'Python in Action'}"
      ]
     },
     "execution_count": 52,
     "metadata": {},
     "output_type": "execute_result"
    }
   ],
   "source": [
    "import json\n",
    "params = r.additional_kwargs[\"function_call\"][\"arguments\"]\n",
    "json.loads(params)"
   ]
  }
 ],
 "metadata": {
  "kernelspec": {
   "display_name": "Python 3 (ipykernel)",
   "language": "python",
   "name": "python3"
  },
  "language_info": {
   "codemirror_mode": {
    "name": "ipython",
    "version": 3
   },
   "file_extension": ".py",
   "mimetype": "text/x-python",
   "name": "python",
   "nbconvert_exporter": "python",
   "pygments_lexer": "ipython3",
   "version": "3.11.5"
  }
 },
 "nbformat": 4,
 "nbformat_minor": 5
}
